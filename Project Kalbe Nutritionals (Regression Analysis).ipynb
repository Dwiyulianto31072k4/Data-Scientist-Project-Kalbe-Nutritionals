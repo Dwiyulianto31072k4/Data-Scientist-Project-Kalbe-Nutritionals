{
 "cells": [
  {
   "cell_type": "code",
   "execution_count": 17,
   "id": "e39995c2",
   "metadata": {},
   "outputs": [],
   "source": [
    "import pandas as pd\n",
    "import numpy as np\n",
    "import matplotlib.pyplot as plt\n",
    "from statsmodels.tsa.arima.model import ARIMA\n",
    "from datetime import timedelta"
   ]
  },
  {
   "cell_type": "code",
   "execution_count": 18,
   "id": "8ded2f22",
   "metadata": {},
   "outputs": [],
   "source": [
    "# Membaca data\n",
    "datacustomer = pd.read_csv(\"/Users/dwiyulianto/Downloads/Case Study - Customer.csv\", delimiter=';')\n",
    "datastore = pd.read_csv(\"/Users/dwiyulianto/Downloads/Case Study - Store.csv\", delimiter=';')\n",
    "dataproduct = pd.read_csv(\"/Users/dwiyulianto/Downloads/Case Study - Product.csv\", delimiter=';')\n",
    "datatransaction = pd.read_csv(\"/Users/dwiyulianto/Downloads/Case Study - Transaction.csv\", delimiter=';')\n"
   ]
  },
  {
   "cell_type": "code",
   "execution_count": 19,
   "id": "36be2bb6",
   "metadata": {},
   "outputs": [
    {
     "name": "stdout",
     "output_type": "stream",
     "text": [
      "   CustomerID  Age  Gender Marital Status Income\n",
      "0           1   55       1        Married   5,12\n",
      "1           2   60       1        Married   6,23\n",
      "2           3   32       1        Married   9,17\n",
      "3           4   31       1        Married   4,87\n",
      "4           5   58       1        Married   3,57\n",
      "(444, 5)\n"
     ]
    },
    {
     "data": {
      "text/plain": [
       "CustomerID        0\n",
       "Age               0\n",
       "Gender            0\n",
       "Marital Status    0\n",
       "Income            0\n",
       "dtype: int64"
      ]
     },
     "execution_count": 19,
     "metadata": {},
     "output_type": "execute_result"
    }
   ],
   "source": [
    "# Data Customer Section\n",
    "# Handle duplicates if necessary\n",
    "datacustomer_cleaned = datacustomer.drop_duplicates()\n",
    "datacustomer_cleaned = datacustomer.dropna(axis=0)\n",
    "\n",
    "# Validate the results\n",
    "print(datacustomer_cleaned.head())\n",
    "print(datacustomer_cleaned.shape)\n",
    "\n",
    "datacustomer_cleaned.isnull().sum()"
   ]
  },
  {
   "cell_type": "code",
   "execution_count": 20,
   "id": "700ffd99",
   "metadata": {},
   "outputs": [
    {
     "name": "stdout",
     "output_type": "stream",
     "text": [
      "  ProductID   Product Name  Price\n",
      "0        P1      Choco Bar   8800\n",
      "1        P2  Ginger Candy    3200\n",
      "2        P3       Crackers   7500\n",
      "3        P4    Potato Chip  12000\n",
      "4        P5       Thai Tea   4200\n",
      "(10, 3)\n"
     ]
    },
    {
     "data": {
      "text/plain": [
       "ProductID       0\n",
       "Product Name    0\n",
       "Price           0\n",
       "dtype: int64"
      ]
     },
     "execution_count": 20,
     "metadata": {},
     "output_type": "execute_result"
    }
   ],
   "source": [
    "# Data Product Section\n",
    "# Handle duplicates if necessary\n",
    "dataproduct_cleaned = dataproduct.drop_duplicates()\n",
    "\n",
    "# Validate the results\n",
    "print(dataproduct_cleaned.head())\n",
    "print(dataproduct_cleaned.shape)\n",
    "\n",
    "dataproduct_cleaned.isnull().sum()"
   ]
  },
  {
   "cell_type": "code",
   "execution_count": 21,
   "id": "a90e9808",
   "metadata": {},
   "outputs": [
    {
     "name": "stdout",
     "output_type": "stream",
     "text": [
      "   StoreID         StoreName GroupStore           Type   Latitude   Longitude\n",
      "0        1     Prima Tendean      Prima   Modern Trade       -6,2  106,816666\n",
      "1        2  Prima Kelapa Dua      Prima   Modern Trade  -6,914864  107,608238\n",
      "2        3        Prima Kota      Prima   Modern Trade  -7,797068  110,370529\n",
      "3        4       Gita Ginara       Gita  General Trade  -6,966667  110,416664\n",
      "4        5           Bonafid       Gita  General Trade  -7,250445  112,768845\n",
      "(14, 6)\n"
     ]
    },
    {
     "data": {
      "text/plain": [
       "StoreID       0\n",
       "StoreName     0\n",
       "GroupStore    0\n",
       "Type          0\n",
       "Latitude      0\n",
       "Longitude     0\n",
       "dtype: int64"
      ]
     },
     "execution_count": 21,
     "metadata": {},
     "output_type": "execute_result"
    }
   ],
   "source": [
    "# Data Store Section\n",
    "# Identify and handle missing values\n",
    "datastore_cleaned = datastore.dropna()\n",
    "\n",
    "# Handle duplicates if necessary\n",
    "datastore_cleaned = datastore_cleaned.drop_duplicates()\n",
    "\n",
    "# Validate the results\n",
    "print(datastore_cleaned.head())\n",
    "print(datastore_cleaned.shape)\n",
    "\n",
    "datastore_cleaned.isnull().sum()"
   ]
  },
  {
   "cell_type": "code",
   "execution_count": 22,
   "id": "cabfd425",
   "metadata": {},
   "outputs": [
    {
     "name": "stdout",
     "output_type": "stream",
     "text": [
      "  TransactionID  CustomerID       Date ProductID  Price  Qty  TotalAmount  \\\n",
      "0       TR11369         328 2022-01-01        P3   7500    4        30000   \n",
      "1       TR16356         165 2022-01-01        P9  10000    7        70000   \n",
      "2        TR1984         183 2022-01-01        P1   8800    4        35200   \n",
      "3       TR35256         160 2022-01-01        P1   8800    7        61600   \n",
      "4       TR41231         386 2022-01-01        P9  10000    1        10000   \n",
      "\n",
      "   StoreID  \n",
      "0       12  \n",
      "1        1  \n",
      "2        4  \n",
      "3        4  \n",
      "4        4  \n",
      "(5020, 8)\n"
     ]
    },
    {
     "name": "stderr",
     "output_type": "stream",
     "text": [
      "/var/folders/1l/kv66r7nn0bz1j7vtljz00d400000gp/T/ipykernel_3335/752883293.py:10: UserWarning: Parsing dates in DD/MM/YYYY format when dayfirst=False (the default) was specified. This may lead to inconsistently parsed dates! Specify a format to ensure consistent parsing.\n",
      "  datatransaction_cleaned['Date'] = pd.to_datetime(datatransaction_cleaned['Date'])\n"
     ]
    },
    {
     "data": {
      "text/plain": [
       "TransactionID    0\n",
       "CustomerID       0\n",
       "Date             0\n",
       "ProductID        0\n",
       "Price            0\n",
       "Qty              0\n",
       "TotalAmount      0\n",
       "StoreID          0\n",
       "dtype: int64"
      ]
     },
     "execution_count": 22,
     "metadata": {},
     "output_type": "execute_result"
    }
   ],
   "source": [
    "# Data Transaction Section\n",
    "\n",
    "# Identify and handle missing values\n",
    "datatransaction_cleaned = datatransaction.dropna()\n",
    "\n",
    "# Handle duplicates if necessary\n",
    "datatransaction_cleaned = datatransaction_cleaned.drop_duplicates()\n",
    "\n",
    "#Mengubah tipe data supaya sesuai\n",
    "datatransaction_cleaned['Date'] = pd.to_datetime(datatransaction_cleaned['Date'])\n",
    "\n",
    "# Validate the results\n",
    "print(datatransaction_cleaned.head())\n",
    "print(datatransaction_cleaned.shape)\n",
    "\n",
    "datatransaction_cleaned.isnull().sum()"
   ]
  },
  {
   "cell_type": "code",
   "execution_count": 23,
   "id": "80563a8b",
   "metadata": {},
   "outputs": [],
   "source": [
    "#Mengubah tipe data yang belum sesuai\n",
    "datatransaction_cleaned['Date'] = pd.to_datetime(datatransaction_cleaned['Date'])"
   ]
  },
  {
   "cell_type": "code",
   "execution_count": 8,
   "id": "8697f40c",
   "metadata": {},
   "outputs": [
    {
     "name": "stdout",
     "output_type": "stream",
     "text": [
      "<class 'pandas.core.frame.DataFrame'>\n",
      "Int64Index: 444 entries, 0 to 446\n",
      "Data columns (total 5 columns):\n",
      " #   Column          Non-Null Count  Dtype \n",
      "---  ------          --------------  ----- \n",
      " 0   CustomerID      444 non-null    int64 \n",
      " 1   Age             444 non-null    int64 \n",
      " 2   Gender          444 non-null    int64 \n",
      " 3   Marital Status  444 non-null    object\n",
      " 4   Income          444 non-null    object\n",
      "dtypes: int64(3), object(2)\n",
      "memory usage: 20.8+ KB\n",
      "<class 'pandas.core.frame.DataFrame'>\n",
      "Int64Index: 5020 entries, 0 to 5019\n",
      "Data columns (total 8 columns):\n",
      " #   Column         Non-Null Count  Dtype         \n",
      "---  ------         --------------  -----         \n",
      " 0   TransactionID  5020 non-null   object        \n",
      " 1   CustomerID     5020 non-null   int64         \n",
      " 2   Date           5020 non-null   datetime64[ns]\n",
      " 3   ProductID      5020 non-null   object        \n",
      " 4   Price          5020 non-null   int64         \n",
      " 5   Qty            5020 non-null   int64         \n",
      " 6   TotalAmount    5020 non-null   int64         \n",
      " 7   StoreID        5020 non-null   int64         \n",
      "dtypes: datetime64[ns](1), int64(5), object(2)\n",
      "memory usage: 353.0+ KB\n",
      "<class 'pandas.core.frame.DataFrame'>\n",
      "Int64Index: 14 entries, 0 to 13\n",
      "Data columns (total 6 columns):\n",
      " #   Column      Non-Null Count  Dtype \n",
      "---  ------      --------------  ----- \n",
      " 0   StoreID     14 non-null     int64 \n",
      " 1   StoreName   14 non-null     object\n",
      " 2   GroupStore  14 non-null     object\n",
      " 3   Type        14 non-null     object\n",
      " 4   Latitude    14 non-null     object\n",
      " 5   Longitude   14 non-null     object\n",
      "dtypes: int64(1), object(5)\n",
      "memory usage: 784.0+ bytes\n",
      "<class 'pandas.core.frame.DataFrame'>\n",
      "Int64Index: 10 entries, 0 to 9\n",
      "Data columns (total 3 columns):\n",
      " #   Column        Non-Null Count  Dtype \n",
      "---  ------        --------------  ----- \n",
      " 0   ProductID     10 non-null     object\n",
      " 1   Product Name  10 non-null     object\n",
      " 2   Price         10 non-null     int64 \n",
      "dtypes: int64(1), object(2)\n",
      "memory usage: 320.0+ bytes\n"
     ]
    }
   ],
   "source": [
    "datacustomer_cleaned.info()\n",
    "datatransaction_cleaned.info()\n",
    "datastore_cleaned.info()\n",
    "dataproduct_cleaned.info()"
   ]
  },
  {
   "cell_type": "code",
   "execution_count": 24,
   "id": "09aa9bc4",
   "metadata": {},
   "outputs": [],
   "source": [
    "#Menggabungkan data pertama\n",
    "merged_data = pd.merge(datatransaction_cleaned, datacustomer_cleaned, on='CustomerID')"
   ]
  },
  {
   "cell_type": "code",
   "execution_count": 25,
   "id": "62435eb9",
   "metadata": {},
   "outputs": [],
   "source": [
    "merged_data_final = pd.merge(merged_data, dataproduct_cleaned, on='ProductID')"
   ]
  },
  {
   "cell_type": "code",
   "execution_count": 26,
   "id": "fd31d6dd",
   "metadata": {},
   "outputs": [
    {
     "data": {
      "text/html": [
       "<div>\n",
       "<style scoped>\n",
       "    .dataframe tbody tr th:only-of-type {\n",
       "        vertical-align: middle;\n",
       "    }\n",
       "\n",
       "    .dataframe tbody tr th {\n",
       "        vertical-align: top;\n",
       "    }\n",
       "\n",
       "    .dataframe thead th {\n",
       "        text-align: right;\n",
       "    }\n",
       "</style>\n",
       "<table border=\"1\" class=\"dataframe\">\n",
       "  <thead>\n",
       "    <tr style=\"text-align: right;\">\n",
       "      <th></th>\n",
       "      <th>TransactionID</th>\n",
       "      <th>CustomerID</th>\n",
       "      <th>Date</th>\n",
       "      <th>ProductID</th>\n",
       "      <th>Price_x</th>\n",
       "      <th>Qty</th>\n",
       "      <th>TotalAmount</th>\n",
       "      <th>StoreID</th>\n",
       "      <th>Age</th>\n",
       "      <th>Gender</th>\n",
       "      <th>Marital Status</th>\n",
       "      <th>Income</th>\n",
       "      <th>Product Name</th>\n",
       "      <th>Price_y</th>\n",
       "    </tr>\n",
       "  </thead>\n",
       "  <tbody>\n",
       "    <tr>\n",
       "      <th>0</th>\n",
       "      <td>TR11369</td>\n",
       "      <td>328</td>\n",
       "      <td>2022-01-01</td>\n",
       "      <td>P3</td>\n",
       "      <td>7500</td>\n",
       "      <td>4</td>\n",
       "      <td>30000</td>\n",
       "      <td>12</td>\n",
       "      <td>36</td>\n",
       "      <td>0</td>\n",
       "      <td>Married</td>\n",
       "      <td>10,53</td>\n",
       "      <td>Crackers</td>\n",
       "      <td>7500</td>\n",
       "    </tr>\n",
       "    <tr>\n",
       "      <th>1</th>\n",
       "      <td>TR20170</td>\n",
       "      <td>165</td>\n",
       "      <td>2022-07-23</td>\n",
       "      <td>P3</td>\n",
       "      <td>7500</td>\n",
       "      <td>2</td>\n",
       "      <td>15000</td>\n",
       "      <td>13</td>\n",
       "      <td>44</td>\n",
       "      <td>1</td>\n",
       "      <td>Married</td>\n",
       "      <td>14,58</td>\n",
       "      <td>Crackers</td>\n",
       "      <td>7500</td>\n",
       "    </tr>\n",
       "    <tr>\n",
       "      <th>2</th>\n",
       "      <td>TR80016</td>\n",
       "      <td>183</td>\n",
       "      <td>2022-01-24</td>\n",
       "      <td>P3</td>\n",
       "      <td>7500</td>\n",
       "      <td>2</td>\n",
       "      <td>15000</td>\n",
       "      <td>10</td>\n",
       "      <td>27</td>\n",
       "      <td>1</td>\n",
       "      <td>Single</td>\n",
       "      <td>0,18</td>\n",
       "      <td>Crackers</td>\n",
       "      <td>7500</td>\n",
       "    </tr>\n",
       "    <tr>\n",
       "      <th>3</th>\n",
       "      <td>TR89318</td>\n",
       "      <td>183</td>\n",
       "      <td>2022-07-17</td>\n",
       "      <td>P3</td>\n",
       "      <td>7500</td>\n",
       "      <td>1</td>\n",
       "      <td>7500</td>\n",
       "      <td>12</td>\n",
       "      <td>27</td>\n",
       "      <td>1</td>\n",
       "      <td>Single</td>\n",
       "      <td>0,18</td>\n",
       "      <td>Crackers</td>\n",
       "      <td>7500</td>\n",
       "    </tr>\n",
       "    <tr>\n",
       "      <th>4</th>\n",
       "      <td>TR82094</td>\n",
       "      <td>183</td>\n",
       "      <td>2022-09-15</td>\n",
       "      <td>P3</td>\n",
       "      <td>7500</td>\n",
       "      <td>2</td>\n",
       "      <td>15000</td>\n",
       "      <td>1</td>\n",
       "      <td>27</td>\n",
       "      <td>1</td>\n",
       "      <td>Single</td>\n",
       "      <td>0,18</td>\n",
       "      <td>Crackers</td>\n",
       "      <td>7500</td>\n",
       "    </tr>\n",
       "    <tr>\n",
       "      <th>...</th>\n",
       "      <td>...</td>\n",
       "      <td>...</td>\n",
       "      <td>...</td>\n",
       "      <td>...</td>\n",
       "      <td>...</td>\n",
       "      <td>...</td>\n",
       "      <td>...</td>\n",
       "      <td>...</td>\n",
       "      <td>...</td>\n",
       "      <td>...</td>\n",
       "      <td>...</td>\n",
       "      <td>...</td>\n",
       "      <td>...</td>\n",
       "      <td>...</td>\n",
       "    </tr>\n",
       "    <tr>\n",
       "      <th>4971</th>\n",
       "      <td>TR56886</td>\n",
       "      <td>317</td>\n",
       "      <td>2022-12-13</td>\n",
       "      <td>P4</td>\n",
       "      <td>12000</td>\n",
       "      <td>1</td>\n",
       "      <td>12000</td>\n",
       "      <td>11</td>\n",
       "      <td>55</td>\n",
       "      <td>0</td>\n",
       "      <td>Married</td>\n",
       "      <td>13,89</td>\n",
       "      <td>Potato Chip</td>\n",
       "      <td>12000</td>\n",
       "    </tr>\n",
       "    <tr>\n",
       "      <th>4972</th>\n",
       "      <td>TR19361</td>\n",
       "      <td>348</td>\n",
       "      <td>2022-05-29</td>\n",
       "      <td>P4</td>\n",
       "      <td>12000</td>\n",
       "      <td>3</td>\n",
       "      <td>36000</td>\n",
       "      <td>7</td>\n",
       "      <td>29</td>\n",
       "      <td>1</td>\n",
       "      <td>Married</td>\n",
       "      <td>4,64</td>\n",
       "      <td>Potato Chip</td>\n",
       "      <td>12000</td>\n",
       "    </tr>\n",
       "    <tr>\n",
       "      <th>4973</th>\n",
       "      <td>TR35558</td>\n",
       "      <td>192</td>\n",
       "      <td>2022-12-09</td>\n",
       "      <td>P4</td>\n",
       "      <td>12000</td>\n",
       "      <td>2</td>\n",
       "      <td>24000</td>\n",
       "      <td>10</td>\n",
       "      <td>26</td>\n",
       "      <td>0</td>\n",
       "      <td>Single</td>\n",
       "      <td>4,47</td>\n",
       "      <td>Potato Chip</td>\n",
       "      <td>12000</td>\n",
       "    </tr>\n",
       "    <tr>\n",
       "      <th>4974</th>\n",
       "      <td>TR27321</td>\n",
       "      <td>441</td>\n",
       "      <td>2022-11-08</td>\n",
       "      <td>P4</td>\n",
       "      <td>12000</td>\n",
       "      <td>2</td>\n",
       "      <td>24000</td>\n",
       "      <td>10</td>\n",
       "      <td>19</td>\n",
       "      <td>0</td>\n",
       "      <td>Single</td>\n",
       "      <td>2,66</td>\n",
       "      <td>Potato Chip</td>\n",
       "      <td>12000</td>\n",
       "    </tr>\n",
       "    <tr>\n",
       "      <th>4975</th>\n",
       "      <td>TR29879</td>\n",
       "      <td>441</td>\n",
       "      <td>2022-12-25</td>\n",
       "      <td>P4</td>\n",
       "      <td>12000</td>\n",
       "      <td>4</td>\n",
       "      <td>48000</td>\n",
       "      <td>14</td>\n",
       "      <td>19</td>\n",
       "      <td>0</td>\n",
       "      <td>Single</td>\n",
       "      <td>2,66</td>\n",
       "      <td>Potato Chip</td>\n",
       "      <td>12000</td>\n",
       "    </tr>\n",
       "  </tbody>\n",
       "</table>\n",
       "<p>4976 rows × 14 columns</p>\n",
       "</div>"
      ],
      "text/plain": [
       "     TransactionID  CustomerID       Date ProductID  Price_x  Qty  \\\n",
       "0          TR11369         328 2022-01-01        P3     7500    4   \n",
       "1          TR20170         165 2022-07-23        P3     7500    2   \n",
       "2          TR80016         183 2022-01-24        P3     7500    2   \n",
       "3          TR89318         183 2022-07-17        P3     7500    1   \n",
       "4          TR82094         183 2022-09-15        P3     7500    2   \n",
       "...            ...         ...        ...       ...      ...  ...   \n",
       "4971       TR56886         317 2022-12-13        P4    12000    1   \n",
       "4972       TR19361         348 2022-05-29        P4    12000    3   \n",
       "4973       TR35558         192 2022-12-09        P4    12000    2   \n",
       "4974       TR27321         441 2022-11-08        P4    12000    2   \n",
       "4975       TR29879         441 2022-12-25        P4    12000    4   \n",
       "\n",
       "      TotalAmount  StoreID  Age  Gender Marital Status Income Product Name  \\\n",
       "0           30000       12   36       0        Married  10,53     Crackers   \n",
       "1           15000       13   44       1        Married  14,58     Crackers   \n",
       "2           15000       10   27       1         Single   0,18     Crackers   \n",
       "3            7500       12   27       1         Single   0,18     Crackers   \n",
       "4           15000        1   27       1         Single   0,18     Crackers   \n",
       "...           ...      ...  ...     ...            ...    ...          ...   \n",
       "4971        12000       11   55       0        Married  13,89  Potato Chip   \n",
       "4972        36000        7   29       1        Married   4,64  Potato Chip   \n",
       "4973        24000       10   26       0         Single   4,47  Potato Chip   \n",
       "4974        24000       10   19       0         Single   2,66  Potato Chip   \n",
       "4975        48000       14   19       0         Single   2,66  Potato Chip   \n",
       "\n",
       "      Price_y  \n",
       "0        7500  \n",
       "1        7500  \n",
       "2        7500  \n",
       "3        7500  \n",
       "4        7500  \n",
       "...       ...  \n",
       "4971    12000  \n",
       "4972    12000  \n",
       "4973    12000  \n",
       "4974    12000  \n",
       "4975    12000  \n",
       "\n",
       "[4976 rows x 14 columns]"
      ]
     },
     "execution_count": 26,
     "metadata": {},
     "output_type": "execute_result"
    }
   ],
   "source": [
    "merged_data_final"
   ]
  },
  {
   "cell_type": "code",
   "execution_count": 27,
   "id": "0682ead9",
   "metadata": {},
   "outputs": [],
   "source": [
    "transaksiharian = merged_data_final.groupby('Date')['Qty'].sum().reset_index()"
   ]
  },
  {
   "cell_type": "code",
   "execution_count": 28,
   "id": "ca41b82f",
   "metadata": {},
   "outputs": [
    {
     "data": {
      "text/html": [
       "<div>\n",
       "<style scoped>\n",
       "    .dataframe tbody tr th:only-of-type {\n",
       "        vertical-align: middle;\n",
       "    }\n",
       "\n",
       "    .dataframe tbody tr th {\n",
       "        vertical-align: top;\n",
       "    }\n",
       "\n",
       "    .dataframe thead th {\n",
       "        text-align: right;\n",
       "    }\n",
       "</style>\n",
       "<table border=\"1\" class=\"dataframe\">\n",
       "  <thead>\n",
       "    <tr style=\"text-align: right;\">\n",
       "      <th></th>\n",
       "      <th>Date</th>\n",
       "      <th>Qty</th>\n",
       "    </tr>\n",
       "  </thead>\n",
       "  <tbody>\n",
       "    <tr>\n",
       "      <th>0</th>\n",
       "      <td>2022-01-01</td>\n",
       "      <td>49</td>\n",
       "    </tr>\n",
       "    <tr>\n",
       "      <th>1</th>\n",
       "      <td>2022-01-02</td>\n",
       "      <td>50</td>\n",
       "    </tr>\n",
       "    <tr>\n",
       "      <th>2</th>\n",
       "      <td>2022-01-03</td>\n",
       "      <td>76</td>\n",
       "    </tr>\n",
       "    <tr>\n",
       "      <th>3</th>\n",
       "      <td>2022-01-04</td>\n",
       "      <td>98</td>\n",
       "    </tr>\n",
       "    <tr>\n",
       "      <th>4</th>\n",
       "      <td>2022-01-05</td>\n",
       "      <td>67</td>\n",
       "    </tr>\n",
       "    <tr>\n",
       "      <th>...</th>\n",
       "      <td>...</td>\n",
       "      <td>...</td>\n",
       "    </tr>\n",
       "    <tr>\n",
       "      <th>360</th>\n",
       "      <td>2022-12-27</td>\n",
       "      <td>70</td>\n",
       "    </tr>\n",
       "    <tr>\n",
       "      <th>361</th>\n",
       "      <td>2022-12-28</td>\n",
       "      <td>68</td>\n",
       "    </tr>\n",
       "    <tr>\n",
       "      <th>362</th>\n",
       "      <td>2022-12-29</td>\n",
       "      <td>42</td>\n",
       "    </tr>\n",
       "    <tr>\n",
       "      <th>363</th>\n",
       "      <td>2022-12-30</td>\n",
       "      <td>40</td>\n",
       "    </tr>\n",
       "    <tr>\n",
       "      <th>364</th>\n",
       "      <td>2022-12-31</td>\n",
       "      <td>37</td>\n",
       "    </tr>\n",
       "  </tbody>\n",
       "</table>\n",
       "<p>365 rows × 2 columns</p>\n",
       "</div>"
      ],
      "text/plain": [
       "          Date  Qty\n",
       "0   2022-01-01   49\n",
       "1   2022-01-02   50\n",
       "2   2022-01-03   76\n",
       "3   2022-01-04   98\n",
       "4   2022-01-05   67\n",
       "..         ...  ...\n",
       "360 2022-12-27   70\n",
       "361 2022-12-28   68\n",
       "362 2022-12-29   42\n",
       "363 2022-12-30   40\n",
       "364 2022-12-31   37\n",
       "\n",
       "[365 rows x 2 columns]"
      ]
     },
     "execution_count": 28,
     "metadata": {},
     "output_type": "execute_result"
    }
   ],
   "source": [
    "transaksiharian"
   ]
  },
  {
   "cell_type": "code",
   "execution_count": 29,
   "id": "2d3049f6",
   "metadata": {},
   "outputs": [],
   "source": [
    "# Build and train the ARIMA model\n",
    "model = ARIMA(transaksiharian['Qty'], order=(2, 1, 2))\n",
    "model_fit = model.fit()"
   ]
  },
  {
   "cell_type": "code",
   "execution_count": 30,
   "id": "7fae81b3",
   "metadata": {
    "scrolled": true
   },
   "outputs": [],
   "source": [
    "# Generate predictions\n",
    "predictions = model_fit.predict(start=transaksiharian.index[0], end=transaksiharian.index[-1])"
   ]
  },
  {
   "cell_type": "code",
   "execution_count": 31,
   "id": "b5c1a2c4",
   "metadata": {},
   "outputs": [
    {
     "data": {
      "image/png": "[encoded data removed]",
      "text/plain": [
       "<Figure size 640x480 with 1 Axes>"
      ]
     },
     "metadata": {},
     "output_type": "display_data"
    }
   ],
   "source": [
    "# Plot the actual vs predicted values\n",
    "plt.plot(transaksiharian['Date'], transaksiharian['Qty'], label='Actual')\n",
    "plt.plot(transaksiharian['Date'], predictions, label='Predicted')\n",
    "plt.xlabel('Date')\n",
    "plt.ylabel('Quantity')\n",
    "plt.legend()\n",
    "plt.show()"
   ]
  },
  {
   "cell_type": "code",
   "execution_count": 32,
   "id": "a6fd2a41",
   "metadata": {},
   "outputs": [
    {
     "data": {
      "text/plain": [
       "0       0.000000\n",
       "1      48.985962\n",
       "2      49.481632\n",
       "3      58.024885\n",
       "4      67.890110\n",
       "         ...    \n",
       "360    47.531383\n",
       "361    47.409655\n",
       "362    48.075657\n",
       "363    47.975770\n",
       "364    48.001053\n",
       "Name: predicted_mean, Length: 365, dtype: float64"
      ]
     },
     "execution_count": 32,
     "metadata": {},
     "output_type": "execute_result"
    }
   ],
   "source": [
    "predictions"
   ]
  },
  {
   "cell_type": "code",
   "execution_count": null,
   "id": "a7a6c3a8",
   "metadata": {},
   "outputs": [],
   "source": []
  }
 ],
 "metadata": {
  "kernelspec": {
   "display_name": "Python 3 (ipykernel)",
   "language": "python",
   "name": "python3"
  },
  "language_info": {
   "codemirror_mode": {
    "name": "ipython",
    "version": 3
   },
   "file_extension": ".py",
   "mimetype": "text/x-python",
   "name": "python",
   "nbconvert_exporter": "python",
   "pygments_lexer": "ipython3",
   "version": "3.10.9"
  }
 },
 "nbformat": 4,
 "nbformat_minor": 5
}
