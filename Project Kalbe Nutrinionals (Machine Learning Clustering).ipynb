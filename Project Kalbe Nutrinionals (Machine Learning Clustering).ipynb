{
 "cells": [
  {
   "cell_type": "code",
   "execution_count": 22,
   "id": "933f519d",
   "metadata": {},
   "outputs": [],
   "source": [
    "import pandas as pd\n",
    "import numpy as np\n",
    "from sklearn.cluster import KMeans\n",
    "import matplotlib.pyplot as plt"
   ]
  },
  {
   "cell_type": "code",
   "execution_count": 23,
   "id": "008329ec",
   "metadata": {},
   "outputs": [],
   "source": [
    "# Membaca data\n",
    "datacustomer = pd.read_csv(\"/Users/dwiyulianto/Downloads/Case Study - Customer.csv\", delimiter=';')\n",
    "datastore = pd.read_csv(\"/Users/dwiyulianto/Downloads/Case Study - Store.csv\", delimiter=';')\n",
    "dataproduct = pd.read_csv(\"/Users/dwiyulianto/Downloads/Case Study - Product.csv\", delimiter=';')\n",
    "datatransaction = pd.read_csv(\"/Users/dwiyulianto/Downloads/Case Study - Transaction.csv\", delimiter=';')"
   ]
  },
  {
   "cell_type": "code",
   "execution_count": 24,
   "id": "0c04e333",
   "metadata": {},
   "outputs": [
    {
     "name": "stderr",
     "output_type": "stream",
     "text": [
      "/var/folders/1l/kv66r7nn0bz1j7vtljz00d400000gp/T/ipykernel_3336/1822436673.py:22: UserWarning: Parsing dates in DD/MM/YYYY format when dayfirst=False (the default) was specified. This may lead to inconsistently parsed dates! Specify a format to ensure consistent parsing.\n",
      "  datatransaction['Date'] = pd.to_datetime(datatransaction['Date'])\n"
     ]
    }
   ],
   "source": [
    "# Data Cleansing\n",
    "\n",
    "# Menghapus duplikat dan mengubah tipe data\n",
    "# datacustomer\n",
    "datacustomer = datacustomer.drop_duplicates()\n",
    "datacustomer = datacustomer.dropna(axis=0)\n",
    "\n",
    "#datastore\n",
    "datastore = datastore.drop_duplicates()\n",
    "datastore = datastore.dropna(axis=0)\n",
    "\n",
    "\n",
    "#dataproduct\n",
    "dataproduct = dataproduct.drop_duplicates()\n",
    "dataproduct = dataproduct.dropna(axis=0)\n",
    "\n",
    "#datatransaction\n",
    "datatransation = datatransaction.drop_duplicates()\n",
    "datatransaction = datatransaction.dropna(axis=0)\n",
    "\n",
    "#Mengubah tipe data yang belum sesuai\n",
    "datatransaction['Date'] = pd.to_datetime(datatransaction['Date'])"
   ]
  },
  {
   "cell_type": "code",
   "execution_count": 25,
   "id": "e26b0101",
   "metadata": {},
   "outputs": [
    {
     "data": {
      "text/plain": [
       "ProductID       0\n",
       "Product Name    0\n",
       "Price           0\n",
       "dtype: int64"
      ]
     },
     "execution_count": 25,
     "metadata": {},
     "output_type": "execute_result"
    }
   ],
   "source": [
    "# Cek data apakah ada miss data\n",
    "dataproduct.isnull().sum()"
   ]
  },
  {
   "cell_type": "code",
   "execution_count": 26,
   "id": "6fb84669",
   "metadata": {},
   "outputs": [
    {
     "data": {
      "text/plain": [
       "StoreID       0\n",
       "StoreName     0\n",
       "GroupStore    0\n",
       "Type          0\n",
       "Latitude      0\n",
       "Longitude     0\n",
       "dtype: int64"
      ]
     },
     "execution_count": 26,
     "metadata": {},
     "output_type": "execute_result"
    }
   ],
   "source": [
    "datastore.isnull().sum()"
   ]
  },
  {
   "cell_type": "code",
   "execution_count": 27,
   "id": "5d7e231e",
   "metadata": {},
   "outputs": [
    {
     "data": {
      "text/plain": [
       "TransactionID    0\n",
       "CustomerID       0\n",
       "Date             0\n",
       "ProductID        0\n",
       "Price            0\n",
       "Qty              0\n",
       "TotalAmount      0\n",
       "StoreID          0\n",
       "dtype: int64"
      ]
     },
     "execution_count": 27,
     "metadata": {},
     "output_type": "execute_result"
    }
   ],
   "source": [
    "datatransation.isnull().sum()"
   ]
  },
  {
   "cell_type": "code",
   "execution_count": 28,
   "id": "d469c5dd",
   "metadata": {},
   "outputs": [
    {
     "data": {
      "text/plain": [
       "CustomerID        0\n",
       "Age               0\n",
       "Gender            0\n",
       "Marital Status    0\n",
       "Income            0\n",
       "dtype: int64"
      ]
     },
     "execution_count": 28,
     "metadata": {},
     "output_type": "execute_result"
    }
   ],
   "source": [
    "datacustomer.isnull().sum()"
   ]
  },
  {
   "cell_type": "code",
   "execution_count": 31,
   "id": "49adbac1",
   "metadata": {},
   "outputs": [],
   "source": [
    "#Menggabungkan data pertama\n",
    "merged_data = pd.merge(datatransaction, datacustomer, on='CustomerID')"
   ]
  },
  {
   "cell_type": "code",
   "execution_count": 32,
   "id": "32253c09",
   "metadata": {},
   "outputs": [],
   "source": [
    "dataclustering = pd.merge(merged_data, dataproduct, on='ProductID')"
   ]
  },
  {
   "cell_type": "code",
   "execution_count": 33,
   "id": "5925f3c6",
   "metadata": {},
   "outputs": [
    {
     "data": {
      "text/html": [
       "<div>\n",
       "<style scoped>\n",
       "    .dataframe tbody tr th:only-of-type {\n",
       "        vertical-align: middle;\n",
       "    }\n",
       "\n",
       "    .dataframe tbody tr th {\n",
       "        vertical-align: top;\n",
       "    }\n",
       "\n",
       "    .dataframe thead th {\n",
       "        text-align: right;\n",
       "    }\n",
       "</style>\n",
       "<table border=\"1\" class=\"dataframe\">\n",
       "  <thead>\n",
       "    <tr style=\"text-align: right;\">\n",
       "      <th></th>\n",
       "      <th>TransactionID</th>\n",
       "      <th>CustomerID</th>\n",
       "      <th>Date</th>\n",
       "      <th>ProductID</th>\n",
       "      <th>Price_x</th>\n",
       "      <th>Qty</th>\n",
       "      <th>TotalAmount</th>\n",
       "      <th>StoreID</th>\n",
       "      <th>Age</th>\n",
       "      <th>Gender</th>\n",
       "      <th>Marital Status</th>\n",
       "      <th>Income</th>\n",
       "      <th>Product Name</th>\n",
       "      <th>Price_y</th>\n",
       "    </tr>\n",
       "  </thead>\n",
       "  <tbody>\n",
       "    <tr>\n",
       "      <th>0</th>\n",
       "      <td>TR11369</td>\n",
       "      <td>328</td>\n",
       "      <td>2022-01-01</td>\n",
       "      <td>P3</td>\n",
       "      <td>7500</td>\n",
       "      <td>4</td>\n",
       "      <td>30000</td>\n",
       "      <td>12</td>\n",
       "      <td>36</td>\n",
       "      <td>0</td>\n",
       "      <td>Married</td>\n",
       "      <td>10,53</td>\n",
       "      <td>Crackers</td>\n",
       "      <td>7500</td>\n",
       "    </tr>\n",
       "    <tr>\n",
       "      <th>1</th>\n",
       "      <td>TR20170</td>\n",
       "      <td>165</td>\n",
       "      <td>2022-07-23</td>\n",
       "      <td>P3</td>\n",
       "      <td>7500</td>\n",
       "      <td>2</td>\n",
       "      <td>15000</td>\n",
       "      <td>13</td>\n",
       "      <td>44</td>\n",
       "      <td>1</td>\n",
       "      <td>Married</td>\n",
       "      <td>14,58</td>\n",
       "      <td>Crackers</td>\n",
       "      <td>7500</td>\n",
       "    </tr>\n",
       "    <tr>\n",
       "      <th>2</th>\n",
       "      <td>TR80016</td>\n",
       "      <td>183</td>\n",
       "      <td>2022-01-24</td>\n",
       "      <td>P3</td>\n",
       "      <td>7500</td>\n",
       "      <td>2</td>\n",
       "      <td>15000</td>\n",
       "      <td>10</td>\n",
       "      <td>27</td>\n",
       "      <td>1</td>\n",
       "      <td>Single</td>\n",
       "      <td>0,18</td>\n",
       "      <td>Crackers</td>\n",
       "      <td>7500</td>\n",
       "    </tr>\n",
       "    <tr>\n",
       "      <th>3</th>\n",
       "      <td>TR89318</td>\n",
       "      <td>183</td>\n",
       "      <td>2022-07-17</td>\n",
       "      <td>P3</td>\n",
       "      <td>7500</td>\n",
       "      <td>1</td>\n",
       "      <td>7500</td>\n",
       "      <td>12</td>\n",
       "      <td>27</td>\n",
       "      <td>1</td>\n",
       "      <td>Single</td>\n",
       "      <td>0,18</td>\n",
       "      <td>Crackers</td>\n",
       "      <td>7500</td>\n",
       "    </tr>\n",
       "    <tr>\n",
       "      <th>4</th>\n",
       "      <td>TR82094</td>\n",
       "      <td>183</td>\n",
       "      <td>2022-09-15</td>\n",
       "      <td>P3</td>\n",
       "      <td>7500</td>\n",
       "      <td>2</td>\n",
       "      <td>15000</td>\n",
       "      <td>1</td>\n",
       "      <td>27</td>\n",
       "      <td>1</td>\n",
       "      <td>Single</td>\n",
       "      <td>0,18</td>\n",
       "      <td>Crackers</td>\n",
       "      <td>7500</td>\n",
       "    </tr>\n",
       "    <tr>\n",
       "      <th>...</th>\n",
       "      <td>...</td>\n",
       "      <td>...</td>\n",
       "      <td>...</td>\n",
       "      <td>...</td>\n",
       "      <td>...</td>\n",
       "      <td>...</td>\n",
       "      <td>...</td>\n",
       "      <td>...</td>\n",
       "      <td>...</td>\n",
       "      <td>...</td>\n",
       "      <td>...</td>\n",
       "      <td>...</td>\n",
       "      <td>...</td>\n",
       "      <td>...</td>\n",
       "    </tr>\n",
       "    <tr>\n",
       "      <th>4971</th>\n",
       "      <td>TR56886</td>\n",
       "      <td>317</td>\n",
       "      <td>2022-12-13</td>\n",
       "      <td>P4</td>\n",
       "      <td>12000</td>\n",
       "      <td>1</td>\n",
       "      <td>12000</td>\n",
       "      <td>11</td>\n",
       "      <td>55</td>\n",
       "      <td>0</td>\n",
       "      <td>Married</td>\n",
       "      <td>13,89</td>\n",
       "      <td>Potato Chip</td>\n",
       "      <td>12000</td>\n",
       "    </tr>\n",
       "    <tr>\n",
       "      <th>4972</th>\n",
       "      <td>TR19361</td>\n",
       "      <td>348</td>\n",
       "      <td>2022-05-29</td>\n",
       "      <td>P4</td>\n",
       "      <td>12000</td>\n",
       "      <td>3</td>\n",
       "      <td>36000</td>\n",
       "      <td>7</td>\n",
       "      <td>29</td>\n",
       "      <td>1</td>\n",
       "      <td>Married</td>\n",
       "      <td>4,64</td>\n",
       "      <td>Potato Chip</td>\n",
       "      <td>12000</td>\n",
       "    </tr>\n",
       "    <tr>\n",
       "      <th>4973</th>\n",
       "      <td>TR35558</td>\n",
       "      <td>192</td>\n",
       "      <td>2022-12-09</td>\n",
       "      <td>P4</td>\n",
       "      <td>12000</td>\n",
       "      <td>2</td>\n",
       "      <td>24000</td>\n",
       "      <td>10</td>\n",
       "      <td>26</td>\n",
       "      <td>0</td>\n",
       "      <td>Single</td>\n",
       "      <td>4,47</td>\n",
       "      <td>Potato Chip</td>\n",
       "      <td>12000</td>\n",
       "    </tr>\n",
       "    <tr>\n",
       "      <th>4974</th>\n",
       "      <td>TR27321</td>\n",
       "      <td>441</td>\n",
       "      <td>2022-11-08</td>\n",
       "      <td>P4</td>\n",
       "      <td>12000</td>\n",
       "      <td>2</td>\n",
       "      <td>24000</td>\n",
       "      <td>10</td>\n",
       "      <td>19</td>\n",
       "      <td>0</td>\n",
       "      <td>Single</td>\n",
       "      <td>2,66</td>\n",
       "      <td>Potato Chip</td>\n",
       "      <td>12000</td>\n",
       "    </tr>\n",
       "    <tr>\n",
       "      <th>4975</th>\n",
       "      <td>TR29879</td>\n",
       "      <td>441</td>\n",
       "      <td>2022-12-25</td>\n",
       "      <td>P4</td>\n",
       "      <td>12000</td>\n",
       "      <td>4</td>\n",
       "      <td>48000</td>\n",
       "      <td>14</td>\n",
       "      <td>19</td>\n",
       "      <td>0</td>\n",
       "      <td>Single</td>\n",
       "      <td>2,66</td>\n",
       "      <td>Potato Chip</td>\n",
       "      <td>12000</td>\n",
       "    </tr>\n",
       "  </tbody>\n",
       "</table>\n",
       "<p>4976 rows × 14 columns</p>\n",
       "</div>"
      ],
      "text/plain": [
       "     TransactionID  CustomerID       Date ProductID  Price_x  Qty  \\\n",
       "0          TR11369         328 2022-01-01        P3     7500    4   \n",
       "1          TR20170         165 2022-07-23        P3     7500    2   \n",
       "2          TR80016         183 2022-01-24        P3     7500    2   \n",
       "3          TR89318         183 2022-07-17        P3     7500    1   \n",
       "4          TR82094         183 2022-09-15        P3     7500    2   \n",
       "...            ...         ...        ...       ...      ...  ...   \n",
       "4971       TR56886         317 2022-12-13        P4    12000    1   \n",
       "4972       TR19361         348 2022-05-29        P4    12000    3   \n",
       "4973       TR35558         192 2022-12-09        P4    12000    2   \n",
       "4974       TR27321         441 2022-11-08        P4    12000    2   \n",
       "4975       TR29879         441 2022-12-25        P4    12000    4   \n",
       "\n",
       "      TotalAmount  StoreID  Age  Gender Marital Status Income Product Name  \\\n",
       "0           30000       12   36       0        Married  10,53     Crackers   \n",
       "1           15000       13   44       1        Married  14,58     Crackers   \n",
       "2           15000       10   27       1         Single   0,18     Crackers   \n",
       "3            7500       12   27       1         Single   0,18     Crackers   \n",
       "4           15000        1   27       1         Single   0,18     Crackers   \n",
       "...           ...      ...  ...     ...            ...    ...          ...   \n",
       "4971        12000       11   55       0        Married  13,89  Potato Chip   \n",
       "4972        36000        7   29       1        Married   4,64  Potato Chip   \n",
       "4973        24000       10   26       0         Single   4,47  Potato Chip   \n",
       "4974        24000       10   19       0         Single   2,66  Potato Chip   \n",
       "4975        48000       14   19       0         Single   2,66  Potato Chip   \n",
       "\n",
       "      Price_y  \n",
       "0        7500  \n",
       "1        7500  \n",
       "2        7500  \n",
       "3        7500  \n",
       "4        7500  \n",
       "...       ...  \n",
       "4971    12000  \n",
       "4972    12000  \n",
       "4973    12000  \n",
       "4974    12000  \n",
       "4975    12000  \n",
       "\n",
       "[4976 rows x 14 columns]"
      ]
     },
     "execution_count": 33,
     "metadata": {},
     "output_type": "execute_result"
    }
   ],
   "source": [
    "dataclustering"
   ]
  },
  {
   "cell_type": "code",
   "execution_count": 34,
   "id": "e8ee4879",
   "metadata": {},
   "outputs": [],
   "source": [
    "#Melakukan data cleansing dengan menyesuaikan tipe data dengan benar\n",
    "dataclustering['CustomerID'] = dataclustering['CustomerID'].astype(str)\n",
    "dataclustering['TransactionID'] = dataclustering['TransactionID'].astype(str)\n",
    "dataclustering['Qty'] = dataclustering['Qty'].astype(float)\n",
    "dataclustering['TotalAmount'] = dataclustering['TotalAmount'].astype(float)"
   ]
  },
  {
   "cell_type": "code",
   "execution_count": 35,
   "id": "47e408a6",
   "metadata": {},
   "outputs": [],
   "source": [
    "# Membuat Data Baru untuk Clustering\n",
    "# Mengelompokkan berdasarkan 'customerID' dan mengagregasi 'transactionID' dengan fungsi count(), 'qty' dengan fungsi sum(), dan 'total_amount' dengan fungsi sum()\n",
    "df_cluster = dataclustering.groupby('CustomerID').agg({\n",
    "    'TransactionID': 'count',\n",
    "    'Qty': 'sum',\n",
    "    'TotalAmount': 'sum'\n",
    "}).reset_index()"
   ]
  },
  {
   "cell_type": "code",
   "execution_count": 13,
   "id": "84d16a2e",
   "metadata": {},
   "outputs": [],
   "source": [
    "# Memilih Variabel untuk Clustering\n",
    "# Pilih variabel yang akan digunakan untuk clustering\n",
    "X = df_cluster[['TransactionID', 'Qty', 'TotalAmount']]"
   ]
  },
  {
   "cell_type": "code",
   "execution_count": 14,
   "id": "06d30cf7",
   "metadata": {},
   "outputs": [],
   "source": [
    "# Normalisasi Data\n",
    "# Jika variabel memiliki skala yang berbeda, normalisasikan data untuk memastikan variabel memiliki pengaruh yang seimbang dalam proses clustering\n",
    "X_normalized = (X - X.mean()) / X.std()"
   ]
  },
  {
   "cell_type": "code",
   "execution_count": 15,
   "id": "cf909287",
   "metadata": {},
   "outputs": [
    {
     "name": "stderr",
     "output_type": "stream",
     "text": [
      "/Users/dwiyulianto/anaconda3/lib/python3.10/site-packages/sklearn/cluster/_kmeans.py:870: FutureWarning: The default value of `n_init` will change from 10 to 'auto' in 1.4. Set the value of `n_init` explicitly to suppress the warning\n",
      "  warnings.warn(\n"
     ]
    },
    {
     "data": {
      "text/html": [
       "<style>#sk-container-id-1 {color: black;background-color: white;}#sk-container-id-1 pre{padding: 0;}#sk-container-id-1 div.sk-toggleable {background-color: white;}#sk-container-id-1 label.sk-toggleable__label {cursor: pointer;display: block;width: 100%;margin-bottom: 0;padding: 0.3em;box-sizing: border-box;text-align: center;}#sk-container-id-1 label.sk-toggleable__label-arrow:before {content: \"▸\";float: left;margin-right: 0.25em;color: #696969;}#sk-container-id-1 label.sk-toggleable__label-arrow:hover:before {color: black;}#sk-container-id-1 div.sk-estimator:hover label.sk-toggleable__label-arrow:before {color: black;}#sk-container-id-1 div.sk-toggleable__content {max-height: 0;max-width: 0;overflow: hidden;text-align: left;background-color: #f0f8ff;}#sk-container-id-1 div.sk-toggleable__content pre {margin: 0.2em;color: black;border-radius: 0.25em;background-color: #f0f8ff;}#sk-container-id-1 input.sk-toggleable__control:checked~div.sk-toggleable__content {max-height: 200px;max-width: 100%;overflow: auto;}#sk-container-id-1 input.sk-toggleable__control:checked~label.sk-toggleable__label-arrow:before {content: \"▾\";}#sk-container-id-1 div.sk-estimator input.sk-toggleable__control:checked~label.sk-toggleable__label {background-color: #d4ebff;}#sk-container-id-1 div.sk-label input.sk-toggleable__control:checked~label.sk-toggleable__label {background-color: #d4ebff;}#sk-container-id-1 input.sk-hidden--visually {border: 0;clip: rect(1px 1px 1px 1px);clip: rect(1px, 1px, 1px, 1px);height: 1px;margin: -1px;overflow: hidden;padding: 0;position: absolute;width: 1px;}#sk-container-id-1 div.sk-estimator {font-family: monospace;background-color: #f0f8ff;border: 1px dotted black;border-radius: 0.25em;box-sizing: border-box;margin-bottom: 0.5em;}#sk-container-id-1 div.sk-estimator:hover {background-color: #d4ebff;}#sk-container-id-1 div.sk-parallel-item::after {content: \"\";width: 100%;border-bottom: 1px solid gray;flex-grow: 1;}#sk-container-id-1 div.sk-label:hover label.sk-toggleable__label {background-color: #d4ebff;}#sk-container-id-1 div.sk-serial::before {content: \"\";position: absolute;border-left: 1px solid gray;box-sizing: border-box;top: 0;bottom: 0;left: 50%;z-index: 0;}#sk-container-id-1 div.sk-serial {display: flex;flex-direction: column;align-items: center;background-color: white;padding-right: 0.2em;padding-left: 0.2em;position: relative;}#sk-container-id-1 div.sk-item {position: relative;z-index: 1;}#sk-container-id-1 div.sk-parallel {display: flex;align-items: stretch;justify-content: center;background-color: white;position: relative;}#sk-container-id-1 div.sk-item::before, #sk-container-id-1 div.sk-parallel-item::before {content: \"\";position: absolute;border-left: 1px solid gray;box-sizing: border-box;top: 0;bottom: 0;left: 50%;z-index: -1;}#sk-container-id-1 div.sk-parallel-item {display: flex;flex-direction: column;z-index: 1;position: relative;background-color: white;}#sk-container-id-1 div.sk-parallel-item:first-child::after {align-self: flex-end;width: 50%;}#sk-container-id-1 div.sk-parallel-item:last-child::after {align-self: flex-start;width: 50%;}#sk-container-id-1 div.sk-parallel-item:only-child::after {width: 0;}#sk-container-id-1 div.sk-dashed-wrapped {border: 1px dashed gray;margin: 0 0.4em 0.5em 0.4em;box-sizing: border-box;padding-bottom: 0.4em;background-color: white;}#sk-container-id-1 div.sk-label label {font-family: monospace;font-weight: bold;display: inline-block;line-height: 1.2em;}#sk-container-id-1 div.sk-label-container {text-align: center;}#sk-container-id-1 div.sk-container {/* jupyter's `normalize.less` sets `[hidden] { display: none; }` but bootstrap.min.css set `[hidden] { display: none !important; }` so we also need the `!important` here to be able to override the default hidden behavior on the sphinx rendered scikit-learn.org. See: https://github.com/scikit-learn/scikit-learn/issues/21755 */display: inline-block !important;position: relative;}#sk-container-id-1 div.sk-text-repr-fallback {display: none;}</style><div id=\"sk-container-id-1\" class=\"sk-top-container\"><div class=\"sk-text-repr-fallback\"><pre>KMeans(n_clusters=4, random_state=42)</pre><b>In a Jupyter environment, please rerun this cell to show the HTML representation or trust the notebook. <br />On GitHub, the HTML representation is unable to render, please try loading this page with nbviewer.org.</b></div><div class=\"sk-container\" hidden><div class=\"sk-item\"><div class=\"sk-estimator sk-toggleable\"><input class=\"sk-toggleable__control sk-hidden--visually\" id=\"sk-estimator-id-1\" type=\"checkbox\" checked><label for=\"sk-estimator-id-1\" class=\"sk-toggleable__label sk-toggleable__label-arrow\">KMeans</label><div class=\"sk-toggleable__content\"><pre>KMeans(n_clusters=4, random_state=42)</pre></div></div></div></div></div>"
      ],
      "text/plain": [
       "KMeans(n_clusters=4, random_state=42)"
      ]
     },
     "execution_count": 15,
     "metadata": {},
     "output_type": "execute_result"
    }
   ],
   "source": [
    "# Menggunakan K-means Clustering\n",
    "# Menentukan jumlah cluster yang diinginkan\n",
    "n_clusters = 4  # Ubah sesuai dengan kebutuhan Anda\n",
    "kmeans = KMeans(n_clusters=n_clusters, random_state=42)\n",
    "kmeans.fit(X_normalized)\n"
   ]
  },
  {
   "cell_type": "code",
   "execution_count": 36,
   "id": "10592097",
   "metadata": {},
   "outputs": [],
   "source": [
    "# Menambahkan Label Cluster ke DataFrame\n",
    "df_cluster['cluster_label'] = kmeans.labels_\n"
   ]
  },
  {
   "cell_type": "code",
   "execution_count": 37,
   "id": "b69cf2b8",
   "metadata": {},
   "outputs": [
    {
     "name": "stdout",
     "output_type": "stream",
     "text": [
      "    CustomerID  cluster_label\n",
      "0            1              2\n",
      "1          100              3\n",
      "2          101              0\n",
      "3          102              0\n",
      "4          103              3\n",
      "..         ...            ...\n",
      "439         95              0\n",
      "440         96              3\n",
      "441         97              3\n",
      "442         98              3\n",
      "443         99              3\n",
      "\n",
      "[444 rows x 2 columns]\n"
     ]
    }
   ],
   "source": [
    "# Menampilkan Hasil Clustering\n",
    "print(df_cluster[['CustomerID', 'cluster_label']])"
   ]
  },
  {
   "cell_type": "code",
   "execution_count": 18,
   "id": "4ba214bc",
   "metadata": {},
   "outputs": [
    {
     "name": "stdout",
     "output_type": "stream",
     "text": [
      "SSE (Sum of Squared Errors): 237.15726358578053\n"
     ]
    }
   ],
   "source": [
    "# Evaluasi Hasil Clustering\n",
    "# Melakukan evaluasi hasil clustering menggunakan metrik evaluasi clustering seperti SSE (Sum of Squared Errors)\n",
    "sse = kmeans.inertia_\n",
    "print(\"SSE (Sum of Squared Errors):\", sse)"
   ]
  },
  {
   "cell_type": "code",
   "execution_count": 38,
   "id": "6439f00d",
   "metadata": {},
   "outputs": [
    {
     "data": {
      "text/html": [
       "<div>\n",
       "<style scoped>\n",
       "    .dataframe tbody tr th:only-of-type {\n",
       "        vertical-align: middle;\n",
       "    }\n",
       "\n",
       "    .dataframe tbody tr th {\n",
       "        vertical-align: top;\n",
       "    }\n",
       "\n",
       "    .dataframe thead th {\n",
       "        text-align: right;\n",
       "    }\n",
       "</style>\n",
       "<table border=\"1\" class=\"dataframe\">\n",
       "  <thead>\n",
       "    <tr style=\"text-align: right;\">\n",
       "      <th></th>\n",
       "      <th>CustomerID</th>\n",
       "      <th>TransactionID</th>\n",
       "      <th>Qty</th>\n",
       "      <th>TotalAmount</th>\n",
       "      <th>cluster_label</th>\n",
       "    </tr>\n",
       "  </thead>\n",
       "  <tbody>\n",
       "    <tr>\n",
       "      <th>0</th>\n",
       "      <td>1</td>\n",
       "      <td>17</td>\n",
       "      <td>60.0</td>\n",
       "      <td>623300.0</td>\n",
       "      <td>2</td>\n",
       "    </tr>\n",
       "    <tr>\n",
       "      <th>1</th>\n",
       "      <td>100</td>\n",
       "      <td>8</td>\n",
       "      <td>35.0</td>\n",
       "      <td>272400.0</td>\n",
       "      <td>3</td>\n",
       "    </tr>\n",
       "    <tr>\n",
       "      <th>2</th>\n",
       "      <td>101</td>\n",
       "      <td>14</td>\n",
       "      <td>44.0</td>\n",
       "      <td>439600.0</td>\n",
       "      <td>0</td>\n",
       "    </tr>\n",
       "    <tr>\n",
       "      <th>3</th>\n",
       "      <td>102</td>\n",
       "      <td>15</td>\n",
       "      <td>57.0</td>\n",
       "      <td>423300.0</td>\n",
       "      <td>0</td>\n",
       "    </tr>\n",
       "    <tr>\n",
       "      <th>4</th>\n",
       "      <td>103</td>\n",
       "      <td>11</td>\n",
       "      <td>31.0</td>\n",
       "      <td>318200.0</td>\n",
       "      <td>3</td>\n",
       "    </tr>\n",
       "    <tr>\n",
       "      <th>...</th>\n",
       "      <td>...</td>\n",
       "      <td>...</td>\n",
       "      <td>...</td>\n",
       "      <td>...</td>\n",
       "      <td>...</td>\n",
       "    </tr>\n",
       "    <tr>\n",
       "      <th>439</th>\n",
       "      <td>95</td>\n",
       "      <td>12</td>\n",
       "      <td>43.0</td>\n",
       "      <td>410200.0</td>\n",
       "      <td>0</td>\n",
       "    </tr>\n",
       "    <tr>\n",
       "      <th>440</th>\n",
       "      <td>96</td>\n",
       "      <td>12</td>\n",
       "      <td>44.0</td>\n",
       "      <td>355100.0</td>\n",
       "      <td>3</td>\n",
       "    </tr>\n",
       "    <tr>\n",
       "      <th>441</th>\n",
       "      <td>97</td>\n",
       "      <td>14</td>\n",
       "      <td>36.0</td>\n",
       "      <td>329500.0</td>\n",
       "      <td>3</td>\n",
       "    </tr>\n",
       "    <tr>\n",
       "      <th>442</th>\n",
       "      <td>98</td>\n",
       "      <td>9</td>\n",
       "      <td>34.0</td>\n",
       "      <td>362500.0</td>\n",
       "      <td>3</td>\n",
       "    </tr>\n",
       "    <tr>\n",
       "      <th>443</th>\n",
       "      <td>99</td>\n",
       "      <td>9</td>\n",
       "      <td>33.0</td>\n",
       "      <td>316400.0</td>\n",
       "      <td>3</td>\n",
       "    </tr>\n",
       "  </tbody>\n",
       "</table>\n",
       "<p>444 rows × 5 columns</p>\n",
       "</div>"
      ],
      "text/plain": [
       "    CustomerID  TransactionID   Qty  TotalAmount  cluster_label\n",
       "0            1             17  60.0     623300.0              2\n",
       "1          100              8  35.0     272400.0              3\n",
       "2          101             14  44.0     439600.0              0\n",
       "3          102             15  57.0     423300.0              0\n",
       "4          103             11  31.0     318200.0              3\n",
       "..         ...            ...   ...          ...            ...\n",
       "439         95             12  43.0     410200.0              0\n",
       "440         96             12  44.0     355100.0              3\n",
       "441         97             14  36.0     329500.0              3\n",
       "442         98              9  34.0     362500.0              3\n",
       "443         99              9  33.0     316400.0              3\n",
       "\n",
       "[444 rows x 5 columns]"
      ]
     },
     "execution_count": 38,
     "metadata": {},
     "output_type": "execute_result"
    }
   ],
   "source": [
    "df_cluster"
   ]
  },
  {
   "cell_type": "code",
   "execution_count": 39,
   "id": "c80eb87d",
   "metadata": {},
   "outputs": [
    {
     "data": {
      "image/png": "[encoded data removed]",
      "text/plain": [
       "<Figure size 640x480 with 2 Axes>"
      ]
     },
     "metadata": {},
     "output_type": "display_data"
    }
   ],
   "source": [
    "# Visualisasi Hasil Clustering\n",
    "plt.scatter(X_normalized['Qty'], X_normalized['TotalAmount'], c=df_cluster['cluster_label'], cmap='viridis')\n",
    "plt.xlabel('Qty')\n",
    "plt.ylabel('Total Amount')\n",
    "plt.title('Clustering Result')\n",
    "plt.colorbar(label='Cluster')\n",
    "plt.show()"
   ]
  },
  {
   "cell_type": "code",
   "execution_count": 40,
   "id": "5d176fe1",
   "metadata": {},
   "outputs": [
    {
     "name": "stdout",
     "output_type": "stream",
     "text": [
      "   cluster_label  customer_count\n",
      "0              3             180\n",
      "1              0             115\n",
      "2              1              93\n",
      "3              2              56\n"
     ]
    }
   ],
   "source": [
    "# Menghitung jumlah pelanggan per klaster\n",
    "cluster_counts = df_cluster['cluster_label'].value_counts().reset_index()\n",
    "cluster_counts.columns = ['cluster_label', 'customer_count']\n",
    "\n",
    "# Menampilkan hasil jumlah pelanggan per klaster\n",
    "print(cluster_counts)\n"
   ]
  },
  {
   "cell_type": "code",
   "execution_count": null,
   "id": "e427161c",
   "metadata": {},
   "outputs": [],
   "source": []
  }
 ],
 "metadata": {
  "kernelspec": {
   "display_name": "Python 3 (ipykernel)",
   "language": "python",
   "name": "python3"
  },
  "language_info": {
   "codemirror_mode": {
    "name": "ipython",
    "version": 3
   },
   "file_extension": ".py",
   "mimetype": "text/x-python",
   "name": "python",
   "nbconvert_exporter": "python",
   "pygments_lexer": "ipython3",
   "version": "3.10.9"
  }
 },
 "nbformat": 4,
 "nbformat_minor": 5
}
